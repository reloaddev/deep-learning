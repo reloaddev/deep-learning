{
 "cells": [
  {
   "cell_type": "code",
   "execution_count": null,
   "metadata": {},
   "outputs": [],
   "source": [
    "from datasets import load_dataset\n",
    "import pandas as pd\n",
    "\n",
    "ds = load_dataset(\"dair-ai/emotion\", \"split\")"
   ]
  },
  {
   "cell_type": "code",
   "execution_count": null,
   "metadata": {},
   "outputs": [
    {
     "name": "stdout",
     "output_type": "stream",
     "text": [
      "16000\n",
      "label\n",
      "1    5362\n",
      "0    4666\n",
      "3    2159\n",
      "4    1937\n",
      "2    1304\n",
      "5     572\n",
      "Name: count, dtype: int64\n",
      "label\n",
      "1    0.3475\n",
      "0    0.2905\n",
      "3    0.1375\n",
      "4    0.1120\n",
      "2    0.0795\n",
      "5    0.0330\n",
      "Name: proportion, dtype: float64\n",
      "label\n",
      "1    0.3520\n",
      "0    0.2750\n",
      "3    0.1375\n",
      "4    0.1060\n",
      "2    0.0890\n",
      "5    0.0405\n",
      "Name: proportion, dtype: float64\n"
     ]
    }
   ],
   "source": [
    "# Extract class labels into list of integers\n",
    "\n",
    "df_train = ds[\"train\"].to_pandas()\n",
    "df_test = ds[\"test\"].to_pandas() \n",
    "df_val = ds[\"validation\"].to_pandas()\n",
    "\n",
    "dist_train = df_train['label'].value_counts(normalize=Tru)\n",
    "dist_test = df_test['label'].value_counts(normalize=True)\n",
    "dist_val = df_val['label'].value_counts(normalize=True)\n",
    "\n",
    "print(dist_train)\n",
    "print(dist_test)\n",
    "print(dist_val)\n",
    "\n",
    "# The class distribution is not balanced, but the balance is the\n",
    "# same across all three splitsacc=\n"
   ]
  },
  {
   "cell_type": "code",
   "execution_count": null,
   "metadata": {},
   "outputs": [
    {
     "name": "stdout",
     "output_type": "stream",
     "text": [
      "Chance Levels\n",
      "Train:  0.2381384765625\n",
      "Test:  0.24400599999999997\n",
      "Validation: 0.23923250000000004\n"
     ]
    }
   ],
   "source": [
    "# What is the chance accuracy level?\n",
    "\n",
    "chance_level_train = (dist_train** 2).sum()\n",
    "chance_level_test = (dist_test ** 2).sum()\n",
    "chance_level_val = (dist_val ** 2).sum()\n",
    "\n",
    "print(\"Chance Levels\")\n",
    "print(\"Train: \", chance_level_train)\n",
    "print(\"Test: \", chance_level_test)\n",
    "print(\"Validation: \", chance_level_val)"
   ]
  },
  {
   "cell_type": "code",
   "execution_count": null,
   "metadata": {},
   "outputs": [
    {
     "name": "stdout",
     "output_type": "stream",
     "text": [
      "Accuracy of classifier only predicting most common class: 0.08936666666666666\n"
     ]
    }
   ],
   "source": [
    "# What would be the accuracy of a classifier\n",
    "# that only predicts the most common class seen in training?\n",
    "\n",
    "print(\"Accuracy of classifier only predicting most common class: \", 5362/60000)\n"
   ]
  },
  {
   "cell_type": "code",
   "execution_count": null,
   "metadata": {},
   "outputs": [],
   "source": [
    "  "
   ]
  }
 ],
 "metadata": {
  "kernelspec": {
   "display_name": ".venv",
   "language": "python",
   "name": "python3"
  },
  "language_info": {
   "codemirror_mode": {
    "name": "ipython",
    "version": 3
   },
   "file_extension": ".py",
   "mimetype": "text/x-python",
   "name": "python",
   "nbconvert_exporter": "python",
   "pygments_lexer": "ipython3",
   "version": "3.11.6"
  }
 },
 "nbformat": 4,
 "nbformat_minor": 2
}
